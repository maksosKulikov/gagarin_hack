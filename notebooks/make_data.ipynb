{
 "cells": [
  {
   "cell_type": "code",
   "execution_count": 29,
   "id": "31fd7ece",
   "metadata": {},
   "outputs": [],
   "source": [
    "from ultralytics import YOLO\n",
    "import matplotlib.pyplot as plt\n",
    "import cv2\n",
    "import torch\n",
    "import numpy as np\n",
    "import cv2 as cv\n",
    "from PIL import Image\n",
    "import glob\n",
    "\n",
    "import os\n",
    "os.environ['KMP_DUPLICATE_LIB_OK'] = 'True'\n",
    "\n",
    "model = YOLO('C:/Users/96224/PycharmProjects/gagarin_hack/train_models/runs/segment/train/weights/best.pt')\n",
    "predict_params = {\"imgsz\": 640, \"conf\": 0.1, \"verbose\": False, \"device\": \"cpu\", \"max_det\": 1}\n",
    "\n",
    "size_max = 1024"
   ]
  },
  {
   "cell_type": "code",
   "execution_count": 30,
   "id": "be3194ca",
   "metadata": {},
   "outputs": [],
   "source": [
    "def make_data(names):\n",
    "    for i in range(len(names)):\n",
    "        img_root = names[i]\n",
    "        img_name = img_root[63:]\n",
    "        results = model(img_root, **predict_params)\n",
    "        if results[0].masks == None:\n",
    "            print(\"image dont seg\")\n",
    "            continue\n",
    "        xy_result = results[0].masks.xy[0]\n",
    "\n",
    "        x_min, x_max, y_min, y_max = 10 ** 5, -1, 10 ** 5, -1\n",
    "        for x, y in xy_result:\n",
    "            x_min = min(x_min, x)\n",
    "            x_max = max(x_max, x)\n",
    "            y_min = min(y_min, y)\n",
    "            y_max = max(y_max, y)\n",
    "\n",
    "        mid = [int((x_min + x_max) / 2), int((y_min + y_max) / 2)]\n",
    "\n",
    "        xy_result_norm = xy_result.copy()\n",
    "        xy_result_norm -= mid\n",
    "\n",
    "        left_up, rigth_up, right_down, left_down = [0, 0], [0, 0], [0, 0], [0, 0]\n",
    "        for x, y in xy_result_norm:\n",
    "            if x < 0 and y < 0 and abs(left_up[0]) + abs(left_up[1]) < abs(x) + abs(y):\n",
    "                left_up = [x, y]\n",
    "            elif x > 0 and y < 0 and abs(rigth_up[0]) + abs(rigth_up[1]) < abs(x) + abs(y):\n",
    "                rigth_up = [x, y]\n",
    "            elif x > 0 and y > 0 and abs(right_down[0]) + abs(right_down[1]) < abs(x) + abs(y):\n",
    "                right_down = [x, y]\n",
    "            elif x < 0 and y > 0 and abs(left_down[0]) + abs(left_down[1]) < abs(x) + abs(y):\n",
    "                left_down = [x, y]\n",
    "        for i in range(2):\n",
    "            left_up[i] = int(mid[i] + left_up[i])\n",
    "            rigth_up[i] = int(mid[i] + rigth_up[i])\n",
    "            right_down[i] = int(mid[i] + right_down[i])\n",
    "            left_down[i] = int(mid[i] + left_down[i])\n",
    "        \n",
    "        img = cv.imread(img_root)\n",
    "        #img = cv.cvtColor(img, cv.COLOR_BGR2RGB)\n",
    "\n",
    "        pts1 = np.float32([left_up, rigth_up, left_down, right_down])\n",
    "        if x_max - x_min > y_max - y_min:\n",
    "            pts2 = np.float32([[0, 0], [size_max, 0], [0, int(size_max * 3 / 4)], [size_max, int(size_max * 3 / 4)]])\n",
    "            M = cv.getPerspectiveTransform(pts1, pts2)\n",
    "            dst = cv.warpPerspective(img, M, (size_max, int(size_max * 3 / 4)))\n",
    "        else:\n",
    "            pts2 = np.float32([[0, 0], [int(size_max * 3 / 4), 0], [0, size_max], [int(size_max * 3 / 4), size_max]])\n",
    "            M = cv.getPerspectiveTransform(pts1, pts2)\n",
    "            dst = cv.warpPerspective(img, M, (int(size_max * 3 / 4), size_max))\n",
    "\n",
    "        cv2.imwrite(\"C:/Users/96224/PycharmProjects/gagarin_hack/datasets/data_after_seg/\" + img_name, dst)\n",
    "        #print(\"data_after_seg/\" + img_name)"
   ]
  },
  {
   "cell_type": "code",
   "execution_count": 31,
   "id": "e0574965",
   "metadata": {},
   "outputs": [],
   "source": [
    "names = glob.glob('C:/Users/96224/PycharmProjects/gagarin_hack/datasets/data_base/*/*/*.png')\n",
    "make_data(names)"
   ]
  },
  {
   "cell_type": "code",
   "execution_count": 15,
   "id": "18c8abd3",
   "metadata": {},
   "outputs": [
    {
     "data": {
      "text/plain": [
       "62"
      ]
     },
     "execution_count": 15,
     "metadata": {},
     "output_type": "execute_result"
    }
   ],
   "source": [
    "len(\"C:/Users/96224/PycharmProjects/gagarin_hack/datasets/data_base\")"
   ]
  },
  {
   "cell_type": "code",
   "execution_count": null,
   "id": "db95de92",
   "metadata": {},
   "outputs": [],
   "source": []
  }
 ],
 "metadata": {
  "kernelspec": {
   "display_name": "Python (GPU)",
   "language": "python",
   "name": "gpu_env"
  },
  "language_info": {
   "codemirror_mode": {
    "name": "ipython",
    "version": 3
   },
   "file_extension": ".py",
   "mimetype": "text/x-python",
   "name": "python",
   "nbconvert_exporter": "python",
   "pygments_lexer": "ipython3",
   "version": "3.10.0"
  }
 },
 "nbformat": 4,
 "nbformat_minor": 5
}
